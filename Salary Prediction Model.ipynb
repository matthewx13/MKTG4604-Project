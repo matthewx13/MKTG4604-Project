{
 "cells": [
  {
   "cell_type": "code",
   "execution_count": 1,
   "id": "202ff81f",
   "metadata": {},
   "outputs": [],
   "source": [
    "import time\n",
    "import nltk\n",
    "from nltk.corpus import stopwords\n",
    "\n",
    "#NLP\n",
    "from nltk import word_tokenize, FreqDist\n",
    "from nltk.corpus import stopwords\n",
    "from nltk.collocations import *\n",
    "import string, re\n",
    "\n",
    "from sklearn.feature_extraction.text import TfidfVectorizer\n",
    "\n",
    "#Model Data Prep\n",
    "from sklearn.model_selection import train_test_split\n",
    "from sklearn.preprocessing import StandardScaler, OneHotEncoder\n",
    "from sklearn.impute import SimpleImputer\n",
    "\n",
    "from sklearn.feature_extraction.text import CountVectorizer\n",
    "from sklearn.feature_extraction.text import TfidfTransformer\n",
    "from sklearn.feature_extraction.text import TfidfVectorizer\n",
    "from sklearn.linear_model import SGDClassifier\n",
    "\n",
    "import matplotlib.pyplot as plt\n",
    "\n",
    "import pandas as pd\n",
    "import numpy as np\n",
    "import seaborn as sns\n",
    "import matplotlib.pyplot as plt\n",
    "import pickle\n",
    "\n",
    "%matplotlib inline\n",
    "np.random.seed(0)"
   ]
  },
  {
   "cell_type": "code",
   "execution_count": 2,
   "id": "9d839aa0",
   "metadata": {},
   "outputs": [],
   "source": [
    "df = pd.read_csv(\"salary_final_2.csv\")"
   ]
  },
  {
   "cell_type": "code",
   "execution_count": 3,
   "id": "9fea1d6e",
   "metadata": {},
   "outputs": [],
   "source": [
    "#Categorical target\n",
    "target_class = df['Salary_Bins'].astype('category')\n",
    "text = df['combined_text']"
   ]
  },
  {
   "cell_type": "code",
   "execution_count": 4,
   "id": "aa1c1284",
   "metadata": {},
   "outputs": [],
   "source": [
    "\n",
    "\n",
    "X_train, X_test, y_train, y_test = train_test_split(text, target_class, test_size=0.1, random_state=4)\n",
    "#This works for individual job description, but how to save the model? \n",
    "tdidf = TfidfVectorizer(sublinear_tf = True, min_df=0.01, max_df=0.5, ngram_range=(1,3), stop_words='english')\n",
    "fitted_vectorizer = tdidf.fit(X_train)\n",
    "tfidf_vectorizer_vectors = fitted_vectorizer.transform(X_train)\n",
    "\n",
    "model = SGDClassifier(alpha=0.0001, max_iter=500, n_jobs=3).fit(tfidf_vectorizer_vectors, y_train)"
   ]
  },
  {
   "cell_type": "code",
   "execution_count": 5,
   "id": "a6a32690",
   "metadata": {},
   "outputs": [],
   "source": [
    "#save the vectorizer to disk\n",
    "\n",
    "pickle.dump(fitted_vectorizer, open(\"fitted_vectorizer.pickle\", \"wb\"))\n",
    "#save the machine learning model to disk\n",
    "\n",
    "filename='finalized_model_2.h5'\n",
    "pickle.dump(model, open(filename, 'wb'))\n",
    "#save the machine model using joblib\n",
    "\n",
    "from joblib import dump, load\n",
    "dump(model, 'finalized_model_2.joblib')\n",
    "clf = load('finalized_model_2.joblib')"
   ]
  },
  {
   "cell_type": "code",
   "execution_count": 47,
   "id": "e7f1bc57",
   "metadata": {},
   "outputs": [],
   "source": [
    "\n",
    "job = \"\"\"Cash Systems Analyst at Google Palo Alto California\n",
    "\"\"\""
   ]
  },
  {
   "cell_type": "code",
   "execution_count": 48,
   "id": "3c6a840d",
   "metadata": {},
   "outputs": [],
   "source": [
    "#load the model from disk\n",
    "\n",
    "tfidf_vectorizer = pickle.load(open('fitted_vectorizer.pickle','rb'))\n",
    "result = clf.predict(tfidf_vectorizer.transform([job]))"
   ]
  },
  {
   "cell_type": "code",
   "execution_count": 49,
   "id": "f69870a2",
   "metadata": {},
   "outputs": [
    {
     "data": {
      "text/plain": [
       "'90,000-120,000'"
      ]
     },
     "execution_count": 49,
     "metadata": {},
     "output_type": "execute_result"
    }
   ],
   "source": [
    "a = model.predict(fitted_vectorizer.transform([job]))\n",
    "labels=['Below 50,000','50,000-70,000','70,000-90,000','90,000-120,000','120,000-150,000','150,000 and Above']\n",
    "labels[a[0]]\n"
   ]
  },
  {
   "cell_type": "code",
   "execution_count": null,
   "id": "1f557470",
   "metadata": {},
   "outputs": [],
   "source": []
  }
 ],
 "metadata": {
  "kernelspec": {
   "display_name": "Python 3 (ipykernel)",
   "language": "python",
   "name": "python3"
  },
  "language_info": {
   "codemirror_mode": {
    "name": "ipython",
    "version": 3
   },
   "file_extension": ".py",
   "mimetype": "text/x-python",
   "name": "python",
   "nbconvert_exporter": "python",
   "pygments_lexer": "ipython3",
   "version": "3.9.13"
  }
 },
 "nbformat": 4,
 "nbformat_minor": 5
}
