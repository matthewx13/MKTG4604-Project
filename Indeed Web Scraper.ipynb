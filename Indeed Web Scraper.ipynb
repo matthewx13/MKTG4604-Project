{
 "cells": [
  {
   "cell_type": "code",
   "execution_count": 42,
   "id": "b8ce6617",
   "metadata": {},
   "outputs": [
    {
     "name": "stdout",
     "output_type": "stream",
     "text": [
      "444 jobs were found and added to jobs.csv successfully.\n"
     ]
    }
   ],
   "source": [
    "import pandas as pd\n",
    "from selenium import webdriver\n",
    "from bs4 import BeautifulSoup\n",
    "import time\n",
    "\n",
    "# Predefined list of skills and locations\n",
    "skills = ['intern']\n",
    "locations = ['Boston', 'New York', 'San Fransisco', 'Los Angeles', 'Denver', 'Seattle']\n",
    "pages = 5 # pages per distinct combo of skills/location\n",
    "\n",
    "# Set driver\n",
    "chrome_options = webdriver.ChromeOptions()\n",
    "driver = webdriver.Chrome(options=chrome_options)\n",
    "\n",
    "\n",
    "jobs_data = []\n",
    "# Scraping the Web with Selenium for each skill and location combination\n",
    "for skill in skills:\n",
    "    for place in locations:\n",
    "        for page in range(pages):  # Scrape specified number of pages\n",
    "            base_url = f'https://www.indeed.com/jobs?q={skill}&l={place}&start='\n",
    "            url = base_url + str(page * 10)\n",
    "            driver.get(url)\n",
    "\n",
    "            # Let the page load\n",
    "            time.sleep(1)\n",
    "\n",
    "            soup = BeautifulSoup(driver.page_source, 'html.parser')\n",
    "            # All job cards\n",
    "            job_containers = soup.find_all('div', class_='tapItem')\n",
    "            \n",
    "            # Extract info and append to CSV\n",
    "            for job in job_containers:\n",
    "                job_title_element = job.find('h2', class_='jobTitle')\n",
    "                job_title = job_title_element.find('span').text.strip() if job_title_element else 'Title not available'\n",
    "\n",
    "                company_element = job.find('span', class_='css-1x7z1ps')\n",
    "                company_name = company_element.text.strip() if company_element else 'Company name not available'\n",
    "\n",
    "                location_element = job.find('div', class_='css-t4u72d')\n",
    "                location = location_element.text.strip() if location_element else 'Location not available'\n",
    "\n",
    "                salary_element = job.find('div', class_='metadata salary-snippet-container')\n",
    "                salary = salary_element.find('div', class_='css-1ihavw2').text.strip() if salary_element else 'Salary not available'\n",
    "\n",
    "                job_description = job.find('div', class_='job-snippet').text.strip() if job.find('div', class_='job-snippet') else 'Description not available'\n",
    "\n",
    "                jobs_data.append([job_title, company_name, location, job_description, salary])\n",
    "\n",
    "# Quit the WebDriver\n",
    "driver.quit()\n",
    "\n",
    "# Read the existing jobs.csv file as a DataFrame\n",
    "existing_jobs = pd.read_csv('jobs.csv')\n",
    "\n",
    "# Convert the scraped data into a DataFrame\n",
    "new_jobs_df = pd.DataFrame(jobs_data, columns=['JOB_NAME', 'COMPANY', 'LOCATION', 'DESCRIPTION', 'SALARY'])\n",
    "\n",
    "# Concatenate the existing and new job data, drop duplicates, and re-save to jobs.csv\n",
    "all_jobs = pd.concat([existing_jobs, new_jobs_df]).drop_duplicates().reset_index(drop=True)\n",
    "all_jobs.to_csv('jobs.csv', index=False)\n",
    "\n",
    "print(str(len(all_jobs) - len(existing_jobs)) + ' jobs were found and added to jobs.csv successfully.')\n"
   ]
  },
  {
   "cell_type": "code",
   "execution_count": null,
   "id": "688e86f4",
   "metadata": {},
   "outputs": [],
   "source": []
  }
 ],
 "metadata": {
  "kernelspec": {
   "display_name": "Python 3 (ipykernel)",
   "language": "python",
   "name": "python3"
  },
  "language_info": {
   "codemirror_mode": {
    "name": "ipython",
    "version": 3
   },
   "file_extension": ".py",
   "mimetype": "text/x-python",
   "name": "python",
   "nbconvert_exporter": "python",
   "pygments_lexer": "ipython3",
   "version": "3.9.13"
  }
 },
 "nbformat": 4,
 "nbformat_minor": 5
}
